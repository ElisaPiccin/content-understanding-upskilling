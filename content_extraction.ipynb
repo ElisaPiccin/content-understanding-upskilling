{
 "cells": [
  {
   "cell_type": "markdown",
   "metadata": {},
   "source": [
    "# Compare content extraction and field extraction"
   ]
  },
  {
   "cell_type": "markdown",
   "metadata": {},
   "source": [
    "## Create Azure AI Content Understanding Client\n",
    "\n",
    "> The [AzureContentUnderstandingClient](python/content_understanding_client.py) is a utility class containing functions to interact with the Content Understanding API. \n",
    "\n",
    "\n",
    "Before the official release of the Content Understanding SDK, it can be regarded as a lightweight SDK.\n"
   ]
  },
  {
   "cell_type": "code",
   "execution_count": 1,
   "metadata": {},
   "outputs": [],
   "source": [
    "import logging\n",
    "import json\n",
    "import os\n",
    "import sys\n",
    "from pathlib import Path\n",
    "from dotenv import find_dotenv, load_dotenv\n",
    "from azure.identity import DefaultAzureCredential, get_bearer_token_provider"
   ]
  },
  {
   "cell_type": "code",
   "execution_count": 2,
   "metadata": {},
   "outputs": [
    {
     "data": {
      "text/plain": [
       "True"
      ]
     },
     "execution_count": 2,
     "metadata": {},
     "output_type": "execute_result"
    }
   ],
   "source": [
    "load_dotenv(override=True, dotenv_path=find_dotenv())"
   ]
  },
  {
   "cell_type": "code",
   "execution_count": 2,
   "metadata": {},
   "outputs": [],
   "source": [
    "logging.basicConfig(level=logging.INFO)"
   ]
  },
  {
   "cell_type": "code",
   "execution_count": 3,
   "metadata": {},
   "outputs": [
    {
     "name": "stdout",
     "output_type": "stream",
     "text": [
      "Current Azure Content Understanding endpoint: https://ep-ai-services.services.ai.azure.com/\n",
      "Current Azure Content Understanding API version: 2024-12-01-preview\n"
     ]
    }
   ],
   "source": [
    "AZURE_AI_ENDPOINT = os.getenv(\"AZURE_CU_ENDPOINT\")\n",
    "AZURE_AI_API_VERSION = os.getenv(\"AZURE_CU_API_VERSION\", \"2024-12-01-preview\")\n",
    "print(f\"Current Azure Content Understanding endpoint: {AZURE_AI_ENDPOINT}\")\n",
    "print(f\"Current Azure Content Understanding API version: {AZURE_AI_API_VERSION}\")"
   ]
  },
  {
   "cell_type": "code",
   "execution_count": 4,
   "metadata": {},
   "outputs": [],
   "source": [
    "# only if necessary, add the parent directory to the path to use shared modules\n",
    "# parent_dir = Path(Path.cwd()).parent\n",
    "# sys.path.append(str(parent_dir))\n",
    "\n",
    "# import the utility class AzureContentUnderstandingClient, which is a wrapper around the Azure Content Understanding REST API client\n",
    "from python.content_understanding_client import AzureContentUnderstandingClient"
   ]
  },
  {
   "cell_type": "code",
   "execution_count": 5,
   "metadata": {},
   "outputs": [
    {
     "name": "stderr",
     "output_type": "stream",
     "text": [
      "INFO:azure.identity._credentials.environment:No environment configuration found.\n",
      "INFO:azure.identity._credentials.managed_identity:ManagedIdentityCredential will use IMDS\n"
     ]
    }
   ],
   "source": [
    "# consider running az login\n",
    "credential = DefaultAzureCredential()\n",
    "token_provider = get_bearer_token_provider(credential, \"https://cognitiveservices.azure.com/.default\")"
   ]
  },
  {
   "cell_type": "code",
   "execution_count": null,
   "metadata": {},
   "outputs": [],
   "source": [
    "# As an alternative to the DefaultAzureCredential, you can register an App in Entra ID and use it client secret\n",
    "# from azure.identity import ClientSecretCredential\n",
    "\n",
    "# credential = ClientSecretCredential(\n",
    "#     tenant_id=os.getenv(\"TENANT_ID\"), \n",
    "#     client_id=os.getenv(\"CLIENT_ID\"), \n",
    "#     client_secret=os.getenv(\"CLIENT_SECRET\") \n",
    "# )\n",
    "\n",
    "# # Token provider compatibile\n",
    "# def token_provider(scopes=None, **kwargs):\n",
    "#     if scopes is None:\n",
    "#         scopes = [\"https://cognitiveservices.azure.com/.default\"] # original value\n",
    "#     token = credential.get_token(*scopes)\n",
    "#     return token.token\n",
    "\n",
    "# # scopes = [\"https://cognitiveservices.azure.com/.default\"] # original value\n",
    "# # token = credential.get_token(*scopes)\n",
    "# # print(token.token)"
   ]
  },
  {
   "cell_type": "code",
   "execution_count": 6,
   "metadata": {},
   "outputs": [
    {
     "name": "stderr",
     "output_type": "stream",
     "text": [
      "INFO:azure.core.pipeline.policies.http_logging_policy:Request URL: 'http://169.254.169.254/metadata/identity/oauth2/token?api-version=REDACTED&resource=REDACTED'\n",
      "Request method: 'GET'\n",
      "Request headers:\n",
      "    'User-Agent': 'azsdk-python-identity/1.21.0 Python/3.11.11 (Windows-10-10.0.26100-SP0)'\n",
      "No body was attached to the request\n",
      "INFO:azure.identity._credentials.chained:DefaultAzureCredential acquired a token from AzureCliCredential\n"
     ]
    }
   ],
   "source": [
    "client = AzureContentUnderstandingClient(\n",
    "    endpoint=AZURE_AI_ENDPOINT,\n",
    "    api_version=AZURE_AI_API_VERSION,\n",
    "    token_provider=token_provider,\n",
    "    x_ms_useragent=\"azure-ai-content-understanding-python/analyzer_management\", # This header is used for sample usage telemetry, please comment out this line if you want to opt out.\n",
    ")\n",
    "\n",
    "# This cell printout INFO level logs about the token acquisition process (e.g. AzCli vs ClientSecretCredential)\n",
    "# INFO:azure.identity._credentials.chained:DefaultAzureCredential acquired a token from AzureCliCredential\n",
    "# INFO:azure.identity._internal.get_token_mixin:ClientSecretCredential.get_token succeeded"
   ]
  },
  {
   "cell_type": "markdown",
   "metadata": {},
   "source": [
    "## Content extraction"
   ]
  },
  {
   "cell_type": "code",
   "execution_count": null,
   "metadata": {},
   "outputs": [
    {
     "name": "stderr",
     "output_type": "stream",
     "text": [
      "INFO:python.content_understanding_client:Analyzer content-extraction-analyzer create request accepted.\n",
      "INFO:python.content_understanding_client:Request result is ready after 0.00 seconds.\n"
     ]
    },
    {
     "name": "stdout",
     "output_type": "stream",
     "text": [
      "{\n",
      "  \"id\": \"4dabb79b-fe44-4d53-bb31-6cdd6b71da8f\",\n",
      "  \"status\": \"Succeeded\",\n",
      "  \"result\": {\n",
      "    \"analyzerId\": \"content-extraction-analyzer\",\n",
      "    \"description\": \"Sample invoice analyzer\",\n",
      "    \"createdAt\": \"2025-04-28T14:13:00Z\",\n",
      "    \"lastModifiedAt\": \"2025-04-28T14:13:00Z\",\n",
      "    \"config\": {\n",
      "      \"returnDetails\": true,\n",
      "      \"enableOcr\": true,\n",
      "      \"enableLayout\": true,\n",
      "      \"enableBarcode\": false,\n",
      "      \"enableFormula\": false,\n",
      "      \"disableContentFiltering\": false\n",
      "    },\n",
      "    \"fieldSchema\": {},\n",
      "    \"warnings\": [],\n",
      "    \"status\": \"ready\",\n",
      "    \"scenario\": \"document\"\n",
      "  }\n",
      "}\n"
     ]
    }
   ],
   "source": [
    "# HTTP Error 409: Conflict for url - may be the analyzer already exists\n",
    "CONTENT_EXTRACTION_ANALYZER_ID = \"content-extraction-analyzer\"\n",
    "CONTENT_EXTRACTION_TEMPLATE = \"analyzer_templates/my_content_extraction.json\"\n",
    "\n",
    "response = client.begin_create_analyzer(CONTENT_EXTRACTION_ANALYZER_ID, analyzer_template_path=CONTENT_EXTRACTION_TEMPLATE)\n",
    "result = client.poll_result(response)\n",
    "\n",
    "print(json.dumps(result, indent=2))"
   ]
  },
  {
   "cell_type": "code",
   "execution_count": null,
   "metadata": {},
   "outputs": [],
   "source": [
    "ce_response = client.begin_analyze(CONTENT_EXTRACTION_ANALYZER_ID, \"assets/docs/invoice-logic-apps-tutorial.pdf\")\n",
    "ce_result = client.poll_result(\n",
    "        ce_response,\n",
    "        timeout_seconds=60 * 60,\n",
    "        polling_interval_seconds=1,\n",
    "    )\n",
    "json.dump(ce_result, sys.stdout, indent=2)"
   ]
  },
  {
   "cell_type": "code",
   "execution_count": 11,
   "metadata": {},
   "outputs": [],
   "source": [
    "# create the folder if it does not exist\n",
    "os.makedirs(\"results/docs\", exist_ok=True)\n",
    "\n",
    "# dump the result to a file\n",
    "with open(\"results/docs/content_extraction_analyzer_invoice.json\", \"w\") as f:\n",
    "    json.dump(ce_result, f, indent=2)"
   ]
  },
  {
   "cell_type": "markdown",
   "metadata": {},
   "source": [
    "## Field extraction"
   ]
  },
  {
   "cell_type": "code",
   "execution_count": 13,
   "metadata": {},
   "outputs": [
    {
     "name": "stderr",
     "output_type": "stream",
     "text": [
      "INFO:python.content_understanding_client:Analyzer field-extraction-analyzer create request accepted.\n",
      "INFO:python.content_understanding_client:Request 02ae3353-b333-4376-a83c-76958e570dee in progress ...\n",
      "INFO:python.content_understanding_client:Request 02ae3353-b333-4376-a83c-76958e570dee in progress ...\n",
      "INFO:python.content_understanding_client:Request result is ready after 4.90 seconds.\n"
     ]
    },
    {
     "name": "stdout",
     "output_type": "stream",
     "text": [
      "{\n",
      "  \"id\": \"02ae3353-b333-4376-a83c-76958e570dee\",\n",
      "  \"status\": \"Succeeded\",\n",
      "  \"result\": {\n",
      "    \"analyzerId\": \"field-extraction-analyzer\",\n",
      "    \"description\": \"Sample invoice analyzer\",\n",
      "    \"createdAt\": \"2025-04-28T14:13:29Z\",\n",
      "    \"lastModifiedAt\": \"2025-04-28T14:13:33Z\",\n",
      "    \"config\": {\n",
      "      \"returnDetails\": true,\n",
      "      \"enableOcr\": true,\n",
      "      \"enableLayout\": true,\n",
      "      \"enableBarcode\": false,\n",
      "      \"enableFormula\": false,\n",
      "      \"disableContentFiltering\": false\n",
      "    },\n",
      "    \"fieldSchema\": {\n",
      "      \"fields\": {\n",
      "        \"VendorName\": {\n",
      "          \"type\": \"string\",\n",
      "          \"method\": \"extract\",\n",
      "          \"description\": \"Vendor issuing the invoice\"\n",
      "        },\n",
      "        \"Items\": {\n",
      "          \"type\": \"array\",\n",
      "          \"method\": \"extract\",\n",
      "          \"items\": {\n",
      "            \"type\": \"object\",\n",
      "            \"properties\": {\n",
      "              \"Description\": {\n",
      "                \"type\": \"string\",\n",
      "                \"method\": \"extract\",\n",
      "                \"description\": \"Description of the item\"\n",
      "              },\n",
      "              \"Amount\": {\n",
      "                \"type\": \"number\",\n",
      "                \"method\": \"extract\",\n",
      "                \"description\": \"Amount of the item\"\n",
      "              }\n",
      "            }\n",
      "          }\n",
      "        }\n",
      "      }\n",
      "    },\n",
      "    \"warnings\": [],\n",
      "    \"status\": \"ready\",\n",
      "    \"scenario\": \"document\"\n",
      "  }\n",
      "}\n"
     ]
    }
   ],
   "source": [
    "# HTTP Error 409: Conflict for url - may be the analyzer already exists\n",
    "FIELD_EXTRACTION_ANALYZER_ID = \"field-extraction-analyzer\"\n",
    "FIELD_EXTRACTION_TEMPLATE = \"analyzer_templates/my_invoice_simple_analyzer.json\"\n",
    "\n",
    "response = client.begin_create_analyzer(FIELD_EXTRACTION_ANALYZER_ID, analyzer_template_path=FIELD_EXTRACTION_TEMPLATE)\n",
    "result = client.poll_result(response)\n",
    "\n",
    "print(json.dumps(result, indent=2))"
   ]
  },
  {
   "cell_type": "code",
   "execution_count": null,
   "metadata": {},
   "outputs": [],
   "source": [
    "fe_response = client.begin_analyze(FIELD_EXTRACTION_ANALYZER_ID, \"assets/docs/invoice-logic-apps-tutorial.pdf\")\n",
    "fe_result = client.poll_result(\n",
    "        fe_response,\n",
    "        timeout_seconds=60 * 60,\n",
    "        polling_interval_seconds=1,\n",
    "    )\n",
    "json.dump(fe_result, sys.stdout, indent=2)"
   ]
  },
  {
   "cell_type": "code",
   "execution_count": 15,
   "metadata": {},
   "outputs": [],
   "source": [
    "# create the folder if it does not exist\n",
    "os.makedirs(\"results/docs\", exist_ok=True)\n",
    "\n",
    "# dump the result to a file\n",
    "with open(\"results/docs/field_extraction_analyzer_invoice.json\", \"w\") as f:\n",
    "    json.dump(fe_result, f, indent=2)"
   ]
  },
  {
   "cell_type": "markdown",
   "metadata": {},
   "source": [
    "## Clean-up analyzers"
   ]
  },
  {
   "cell_type": "code",
   "execution_count": 16,
   "metadata": {},
   "outputs": [
    {
     "name": "stderr",
     "output_type": "stream",
     "text": [
      "INFO:python.content_understanding_client:Analyzer content-extraction-analyzer deleted.\n"
     ]
    },
    {
     "data": {
      "text/plain": [
       "<Response [204]>"
      ]
     },
     "execution_count": 16,
     "metadata": {},
     "output_type": "execute_result"
    }
   ],
   "source": [
    "# CONTENT_EXTRACTION_ANALYZER_ID = \"content-extraction-analyzer\"\n",
    "client.delete_analyzer(CONTENT_EXTRACTION_ANALYZER_ID)"
   ]
  },
  {
   "cell_type": "code",
   "execution_count": 17,
   "metadata": {},
   "outputs": [
    {
     "name": "stderr",
     "output_type": "stream",
     "text": [
      "INFO:python.content_understanding_client:Analyzer field-extraction-analyzer deleted.\n"
     ]
    },
    {
     "data": {
      "text/plain": [
       "<Response [204]>"
      ]
     },
     "execution_count": 17,
     "metadata": {},
     "output_type": "execute_result"
    }
   ],
   "source": [
    "# FIELD_EXTRACTION_ANALYZER_ID = \"field-extraction-analyzer\"\n",
    "client.delete_analyzer(FIELD_EXTRACTION_ANALYZER_ID)"
   ]
  }
 ],
 "metadata": {
  "kernelspec": {
   "display_name": "cu_testenv",
   "language": "python",
   "name": "python3"
  },
  "language_info": {
   "codemirror_mode": {
    "name": "ipython",
    "version": 3
   },
   "file_extension": ".py",
   "mimetype": "text/x-python",
   "name": "python",
   "nbconvert_exporter": "python",
   "pygments_lexer": "ipython3",
   "version": "3.11.11"
  }
 },
 "nbformat": 4,
 "nbformat_minor": 2
}
